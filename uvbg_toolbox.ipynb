{
 "cells": [
  {
   "cell_type": "code",
   "execution_count": 80,
   "id": "b8cfd871-802e-4475-8328-5242d99861f9",
   "metadata": {},
   "outputs": [],
   "source": [
    "import datetime\n",
    "import gpxpy\n",
    "import json\n",
    "import matplotlib.dates as mdate\n",
    "import matplotlib.pyplot as plt\n",
    "import pytz\n",
    "import sys\n",
    "from simplekml import Kml\n"
   ]
  },
  {
   "cell_type": "code",
   "execution_count": 82,
   "id": "d9ddd980-b1f9-4544-a5ca-7c1f1e54ce99",
   "metadata": {},
   "outputs": [],
   "source": [
    "# file_forecast = \"2024-05-06_uv-forecast.json\"\n",
    "# file_gpx = \"2024-04-13_12-44.gpx\"\n",
    "# file_uvbg= \"2024-05-06_uvbg.csv\"\n",
    "\n",
    "file_gpx = \"2024-05-05_08-51.gpx\"\n",
    "file_uvbg= \"2024-05-05_uvbg.csv\"\n",
    "kml_outfilename = \"2024-05-05_uvbg.kml\"\n"
   ]
  },
  {
   "cell_type": "code",
   "execution_count": 91,
   "id": "c1e4657e-5345-44ba-bfbd-9cd29e653646",
   "metadata": {},
   "outputs": [],
   "source": [
    "colors=[\"ff007700\", \"ff00ff00\", \"ff00ff77\", \"ff0044ff\", \"ff007777\", \"ff00ffff\", \"ff0077ff\", \"ff0044ff\", \"ff0000ff\", \"ff7700ff\", \"ffff00ff\"]"
   ]
  },
  {
   "cell_type": "code",
   "execution_count": 92,
   "id": "f6564aa3-828b-4ac9-a7b9-7a5511b4e9c1",
   "metadata": {},
   "outputs": [],
   "source": [
    "def howto_forecast():\n",
    "    print (\"wget https://ren27oydli.execute-api.eu-central-1.amazonaws.com/prod\\?lon=11.5\\&lat=48.5\\&tz=-120\\&secret=UV-Bodyguard -O `date +'%Y%m%d'`_uv-forecast.json\")\n"
   ]
  },
  {
   "cell_type": "code",
   "execution_count": 93,
   "id": "81a94f26-43ca-4035-b7ee-7d5c7ae3cbbb",
   "metadata": {},
   "outputs": [],
   "source": [
    "# Web download from:\n",
    "# https://ren27oydli.execute-api.eu-central-1.amazonaws.com/prod?lon=11.5&lat=48.5&tz=-120&secret=UV-Bodyguard\n",
    "def read_forecast(file_forecast):\n",
    "    file_forecast_handle = open (file_forecast, \"r\")\n",
    "    uv_forecast = json.load(file_forecast_handle)[\"uv\"]\n",
    "\n",
    "    uv_forecast_dates = []\n",
    "    uv_forecast_value = []\n",
    "\n",
    "    for item in uv_forecast:\n",
    "        uv_forecast_dates.append (datetime.datetime.fromtimestamp(int(item[\"time\"])-7200))\n",
    "        uv_forecast_value.append (float(item[\"value\"]))\n",
    "    \n",
    "    return uv_forecast_dates, uv_forecast_value\n"
   ]
  },
  {
   "cell_type": "code",
   "execution_count": 94,
   "id": "31e7fffb-579e-47f2-b18e-975e15e3dd65",
   "metadata": {},
   "outputs": [],
   "source": [
    "def read_uvbg(file_uvbg):\n",
    "    file_handle = open (file_uvbg, \"r\")\n",
    "    lines = file_handle.readlines()\n",
    "    file_handle.close()\n",
    "\n",
    "    uvbg_dates = []\n",
    "    uvbg_value = []\n",
    "    uvtrack = []\n",
    "    \n",
    "    for line in lines:\n",
    "        items = line.split(\",\")\n",
    "        xtime_dt = datetime.datetime.fromtimestamp(int(items[0])/1000-7200)\n",
    "        uvbg_dates.append(xtime_dt)\n",
    "        xuvi = float(items[1])\n",
    "        uvbg_value.append(xuvi)\n",
    "        \n",
    "        uvtrack.append({\"time\": xtime_dt.replace(tzinfo=pytz.UTC), \"uvi\": xuvi})\n",
    "        \n",
    "    x = uvbg_dates[0]\n",
    "    xyyyy = int(x.strftime(\"%Y\"))\n",
    "    xmm = int(x.strftime(\"%m\"))\n",
    "    xdd = int(x.strftime(\"%d\"))\n",
    "    xtoday = datetime.datetime (xyyyy, xmm, xdd, 0, 0, 0)\n",
    "    \n",
    "    print (\"UV Track: First/last: \", uvtrack[0][\"time\"], uvtrack[-1][\"time\"])\n",
    "        \n",
    "    return uvbg_dates, uvbg_value, xtoday, uvtrack\n"
   ]
  },
  {
   "cell_type": "code",
   "execution_count": 95,
   "id": "d3d0902c-2696-45a5-a441-c073b1bf7920",
   "metadata": {},
   "outputs": [],
   "source": [
    "def read_gpx(file_gpx):\n",
    "\n",
    "    gpx = gpxpy.parse(open(file_gpx), \"r\")\n",
    "\n",
    "    geotrack = []\n",
    "    for track in gpx.tracks:\n",
    "        for segment in track.segments:\n",
    "            for point in segment.points:\n",
    "                geotrack.append({\"time\": point.time, \"lon\": point.longitude, \"lat\": point.latitude, \"elevation\": point.elevation, \"uvi\": -1})\n",
    "                # print('Point at ({0},{1},{2}) -> {3}'.format(point.time, point.latitude, point.longitude, point.elevation))\n",
    "    \n",
    "    print (\"GPX track: First/last: \", geotrack[0][\"time\"], geotrack[-1][\"time\"])\n",
    "    \n",
    "    return geotrack\n"
   ]
  },
  {
   "cell_type": "code",
   "execution_count": 107,
   "id": "44deb4ed-0add-409c-926f-21cf54ccd04d",
   "metadata": {},
   "outputs": [],
   "source": [
    "def combine_gpx_uvtrack(geotrack, uvtrack, kml_outfilename):\n",
    "    \n",
    "    nelements = len(geotrack)\n",
    "    ielement  = 0\n",
    "    \n",
    "    print (\"\")\n",
    "    \n",
    "    for g in geotrack:\n",
    "        print(\"\\r\", ielement/nelements*100, \"%\", end=\"\")\n",
    "              \n",
    "        xgeotime = g[\"time\"]\n",
    "\n",
    "        xdeltat = []\n",
    "        for uv in uvtrack:\n",
    "            xdeltat.append (abs(uv[\"time\"] - xgeotime))\n",
    "\n",
    "        xmindeltat = min (xdeltat)\n",
    "        i = xdeltat.index (xmindeltat)\n",
    "\n",
    "        g[\"uvi\"] = uvtrack[i][\"uvi\"]\n",
    "              \n",
    "        ielement += 1\n",
    "\n",
    "    kml = Kml()\n",
    "    fol = kml.newfolder(name=\"A Folder\")\n",
    "    for g in geotrack:\n",
    "        pnt = fol.newpoint(name=\"{0}\".format(int(g[\"uvi\"])), coords=[(g[\"lon\"],g[\"lat\"])])\n",
    "        uv_index = int(g[\"uvi\"])\n",
    "        if uv_index > 11: uv_index = 11\n",
    "        pnt.style.iconstyle.color = colors[uv_index] # float(float(uv_index) / 3.0)\n",
    "        pnt.style.iconstyle.icon.href = \"http://maps.google.com/mapfiles/kml/shapes/road_shield3.png\"\n",
    "        # Shapes can be found here: https://kml4earth.appspot.com/icons.html#shapes\n",
    "\n",
    "    kml.save(kml_outfilename)\n",
    "    \n",
    "    print (\"\\n\\nKML file written to \", kml_outfilename)\n",
    "    "
   ]
  },
  {
   "cell_type": "code",
   "execution_count": 97,
   "id": "1eb016e5-ecec-48ef-a355-18194220c9f1",
   "metadata": {},
   "outputs": [],
   "source": [
    "def plot_uvbg(uvbg_dates, uvbg_value, xtoday):\n",
    "\n",
    "    fig, ax = plt.subplots()\n",
    "\n",
    "    # Plot the date using plot_date rather than plot\n",
    "    ax.plot_date(uvbg_dates, uvbg_value, \".\")\n",
    "\n",
    "    xtoday_min = xtoday + datetime.timedelta(0,  9*60*60)\n",
    "    xtoday_max = xtoday + datetime.timedelta(0, 21*60*60)\n",
    "    \n",
    "    ax.set_xlim(xtoday_min, xtoday_max)\n",
    "\n",
    "    # Choose your xtick format string\n",
    "    date_fmt = '%H'\n",
    "\n",
    "    # Use a DateFormatter to set the data to the correct format.\n",
    "    # date_formatter = mdate.DateFormatter(date_fmt)\n",
    "    # ax.xaxis.set_major_formatter(date_formatter)\n",
    "    ax.xaxis.set_major_formatter(mdate.DateFormatter('%H'))\n",
    "    \n",
    "    ax.set_title (xtoday.strftime(\"%Y-%m-%d\"))\n",
    "\n",
    "    # Sets the tick labels diagonal so they fit easier.\n",
    "    fig.autofmt_xdate()\n",
    "    "
   ]
  },
  {
   "cell_type": "code",
   "execution_count": 98,
   "id": "18aa3925-4119-4e80-8103-893648f3eba7",
   "metadata": {},
   "outputs": [],
   "source": [
    "def plot_forecast_uvbg(uv_forecast_dates, uv_forecast_value, uvbg_dates, uvbg_value, xtoday):\n",
    "\n",
    "    fig, ax = plt.subplots()\n",
    "\n",
    "    # Plot the date using plot_date rather than plot\n",
    "    ax.plot_date(uv_forecast_dates, uv_forecast_value, \"-\")\n",
    "    ax.plot_date(uvbg_dates, uvbg_value, \".\")\n",
    "\n",
    "    xtoday_min = xtoday + datetime.timedelta(0,  9*60*60)\n",
    "    xtoday_max = xtoday + datetime.timedelta(0, 21*60*60)\n",
    "    \n",
    "    ax.set_xlim(xtoday_min, xtoday_max)\n",
    "\n",
    "    # Choose your xtick format string\n",
    "    date_fmt = '%H'\n",
    "\n",
    "    # Use a DateFormatter to set the data to the correct format.\n",
    "    # date_formatter = mdate.DateFormatter(date_fmt)\n",
    "    # ax.xaxis.set_major_formatter(date_formatter)\n",
    "    ax.xaxis.set_major_formatter(mdate.DateFormatter('%H'))\n",
    "    \n",
    "    ax.set_title (xtoday.strftime(\"%Y-%m-%d\"))\n",
    "\n",
    "    # Sets the tick labels diagonal so they fit easier.\n",
    "    fig.autofmt_xdate()\n",
    "    "
   ]
  },
  {
   "cell_type": "code",
   "execution_count": 106,
   "id": "a19a88c6-4061-40ca-843a-198841959f51",
   "metadata": {},
   "outputs": [
    {
     "name": "stdout",
     "output_type": "stream",
     "text": [
      "wget https://ren27oydli.execute-api.eu-central-1.amazonaws.com/prod\\?lon=11.5\\&lat=48.5\\&tz=-120\\&secret=UV-Bodyguard -O `date +'%Y%m%d'`_uv-forecast.json\n",
      "UV Track: First/last:  2024-05-05 04:37:13.579000+00:00 2024-05-05 16:09:32.101000+00:00\n",
      "GPX track: First/last:  2024-05-05 06:51:54.550000+00:00 2024-05-05 10:55:53.890000+00:00\n",
      "\n",
      " 99.90627928772258 %%%\n",
      "KML file written to  2024-05-05_uvbg.kml\n"
     ]
    },
    {
     "data": {
      "image/png": "[encoded data removed]",
      "text/plain": [
       "<Figure size 640x480 with 1 Axes>"
      ]
     },
     "metadata": {},
     "output_type": "display_data"
    }
   ],
   "source": [
    "howto_forecast()\n",
    "# uv_forecast_dates, uv_forecast_value = read_forecast(file_forecast)\n",
    "uvbg_dates, uvbg_value, xtoday, uvtrack = read_uvbg(file_uvbg)\n",
    "# plot_forecast_uvbg(uv_forecast_dates, uv_forecast_value, uvbg_dates, uvbg_value, xtoday)\n",
    "geotrack = read_gpx(file_gpx)\n",
    "plot_uvbg(uvbg_dates, uvbg_value, xtoday)\n",
    "\n",
    "combine_gpx_uvtrack(geotrack, uvtrack, kml_outfilename)\n"
   ]
  },
  {
   "cell_type": "code",
   "execution_count": null,
   "id": "c8e1d466-ac21-4f4d-8876-4246b06f12f7",
   "metadata": {},
   "outputs": [],
   "source": []
  }
 ],
 "metadata": {
  "kernelspec": {
   "display_name": "Python 3 (ipykernel)",
   "language": "python",
   "name": "python3"
  },
  "language_info": {
   "codemirror_mode": {
    "name": "ipython",
    "version": 3
   },
   "file_extension": ".py",
   "mimetype": "text/x-python",
   "name": "python",
   "nbconvert_exporter": "python",
   "pygments_lexer": "ipython3",
   "version": "3.8.10"
  }
 },
 "nbformat": 4,
 "nbformat_minor": 5
}
